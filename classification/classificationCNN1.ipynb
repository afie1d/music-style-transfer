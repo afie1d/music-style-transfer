{
 "cells": [
  {
   "cell_type": "code",
   "execution_count": 1,
   "id": "6308a6e5-4580-4242-b8c3-7fad205adcbb",
   "metadata": {},
   "outputs": [
    {
     "name": "stderr",
     "output_type": "stream",
     "text": [
      "2024-10-31 14:39:09.177252: I tensorflow/core/platform/cpu_feature_guard.cc:182] This TensorFlow binary is optimized to use available CPU instructions in performance-critical operations.\n",
      "To enable the following instructions: AVX2 FMA, in other operations, rebuild TensorFlow with the appropriate compiler flags.\n",
      "2024-10-31 14:39:10.608288: W tensorflow/compiler/tf2tensorrt/utils/py_utils.cc:38] TF-TRT Warning: Could not find TensorRT\n"
     ]
    },
    {
     "name": "stdout",
     "output_type": "stream",
     "text": [
      "Num GPUs Available:  0\n"
     ]
    },
    {
     "name": "stderr",
     "output_type": "stream",
     "text": [
      "2024-10-31 14:39:13.902428: I tensorflow/compiler/xla/stream_executor/cuda/cuda_gpu_executor.cc:982] could not open file to read NUMA node: /sys/bus/pci/devices/0000:01:00.0/numa_node\n",
      "Your kernel may have been built without NUMA support.\n",
      "2024-10-31 14:39:14.291364: W tensorflow/core/common_runtime/gpu/gpu_device.cc:1956] Cannot dlopen some GPU libraries. Please make sure the missing libraries mentioned above are installed properly if you would like to use GPU. Follow the guide at https://www.tensorflow.org/install/gpu for how to download and setup the required libraries for your platform.\n",
      "Skipping registering GPU devices...\n"
     ]
    }
   ],
   "source": [
    "import tensorflow as tf\n",
    "print(\"Num GPUs Available: \", len(tf.config.list_physical_devices('GPU')))"
   ]
  },
  {
   "cell_type": "code",
   "execution_count": 2,
   "id": "e55354c8-29e6-4ec1-9515-c1f1b221d2d8",
   "metadata": {},
   "outputs": [
    {
     "name": "stderr",
     "output_type": "stream",
     "text": [
      "/home/jer/anaconda3/envs/cap/lib/python3.9/site-packages/tqdm/auto.py:21: TqdmWarning: IProgress not found. Please update jupyter and ipywidgets. See https://ipywidgets.readthedocs.io/en/stable/user_install.html\n",
      "  from .autonotebook import tqdm as notebook_tqdm\n"
     ]
    }
   ],
   "source": [
    "import os\n",
    "import numpy as np\n",
    "import pandas as pd\n",
    "import librosa\n",
    "import matplotlib.pyplot as plt\n",
    "from sklearn.model_selection import train_test_split\n",
    "from tensorflow.keras.utils import to_categorical\n",
    "\n",
    "from tensorflow.keras.models import Sequential\n",
    "from tensorflow.keras.layers import Conv1D, MaxPooling1D, Flatten, Dense\n",
    "\n",
    "import kagglehub"
   ]
  },
  {
   "cell_type": "code",
   "execution_count": 3,
   "id": "0f2ae824-6ccf-4e9c-8b5b-8457eb9a0993",
   "metadata": {},
   "outputs": [
    {
     "name": "stdout",
     "output_type": "stream",
     "text": [
      "Path to dataset files: /home/jer/.cache/kagglehub/datasets/andradaolteanu/gtzan-dataset-music-genre-classification/versions/1\n"
     ]
    }
   ],
   "source": [
    "# Download dataset\n",
    "path =  kagglehub.dataset_download(\"andradaolteanu/gtzan-dataset-music-genre-classification\")\n",
    "print(\"Path to dataset files:\", path)"
   ]
  },
  {
   "cell_type": "code",
   "execution_count": 4,
   "id": "018c4c3f-22ff-4586-a25b-5733cf80dfb1",
   "metadata": {},
   "outputs": [],
   "source": [
    "p = path + '/Data/genres_original'"
   ]
  },
  {
   "cell_type": "code",
   "execution_count": 5,
   "id": "6a5e55c2-cef1-4530-9957-9c50e5c85be6",
   "metadata": {},
   "outputs": [
    {
     "name": "stderr",
     "output_type": "stream",
     "text": [
      "/tmp/ipykernel_11221/3561210060.py:18: UserWarning: PySoundFile failed. Trying audioread instead.\n",
      "  audio, _ = librosa.load(file_path, sr=sr)\n",
      "/home/jer/anaconda3/envs/cap/lib/python3.9/site-packages/librosa/core/audio.py:184: FutureWarning: librosa.core.audio.__audioread_load\n",
      "\tDeprecated as of librosa version 0.10.0.\n",
      "\tIt will be removed in librosa version 1.0.\n",
      "  y, sr_native = __audioread_load(path, offset, duration, dtype)\n"
     ]
    },
    {
     "name": "stdout",
     "output_type": "stream",
     "text": [
      "Error loading /home/jer/.cache/kagglehub/datasets/andradaolteanu/gtzan-dataset-music-genre-classification/versions/1/Data/genres_original/jazz/jazz.00054.wav: \n"
     ]
    }
   ],
   "source": [
    "# Parameters\n",
    "sr = 22050  # Sample rate\n",
    "duration = 5  # Duration of each audio clip in seconds\n",
    "samples_per_track = sr * duration\n",
    "\n",
    "# Load data\n",
    "def load_data(data_path):\n",
    "    labels = []\n",
    "    features = []\n",
    "\n",
    "    for genre in os.listdir(data_path):\n",
    "        genre_path = os.path.join(data_path, genre)\n",
    "        if os.path.isdir(genre_path):\n",
    "            for file in os.listdir(genre_path):\n",
    "                if file.endswith('.wav'):\n",
    "                    file_path = os.path.join(genre_path, file)\n",
    "                    try:\n",
    "                        audio, _ = librosa.load(file_path, sr=sr)\n",
    "                        if len(audio) >= samples_per_track:\n",
    "                            audio = audio[:samples_per_track]\n",
    "                        else:\n",
    "                            audio = np.pad(audio, (0, max(0, samples_per_track - len(audio))), \"constant\")\n",
    "                        features.append(audio)\n",
    "                        labels.append(genre)\n",
    "                    except Exception as e:\n",
    "                        print(f\"Error loading {file_path}: {e}\")\n",
    "    \n",
    "    return np.array(features), np.array(labels)\n",
    "\n",
    "X, y = load_data(p)"
   ]
  },
  {
   "cell_type": "code",
   "execution_count": 6,
   "id": "1a3e6b66-8b93-4240-a5a1-36ae6f38b932",
   "metadata": {},
   "outputs": [
    {
     "data": {
      "text/plain": [
       "(999, 110250)"
      ]
     },
     "execution_count": 6,
     "metadata": {},
     "output_type": "execute_result"
    }
   ],
   "source": [
    "X.shape"
   ]
  },
  {
   "cell_type": "code",
   "execution_count": 7,
   "id": "43094227-45a9-4c62-a463-8020ac1e075f",
   "metadata": {},
   "outputs": [
    {
     "name": "stdout",
     "output_type": "stream",
     "text": [
      "Original shape of features: (999, 110250)\n",
      "New shape of features for Conv1D: (999, 110250, 1)\n"
     ]
    }
   ],
   "source": [
    "\n",
    "# Check shape of X\n",
    "print(\"Original shape of features:\", X.shape)  # Should be (999, 110250)\n",
    "\n",
    "# Encode labels\n",
    "unique_labels, y_encoded = np.unique(y, return_inverse=True)\n",
    "y_categorical = to_categorical(y_encoded)\n",
    "\n",
    "# Reshape features for Conv1D\n",
    "# Reshape to (num_samples, samples_per_track, 1)\n",
    "X = X.reshape(X.shape[0], samples_per_track, 1)  # Add channel dimension\n",
    "\n",
    "# Check new shape\n",
    "print(\"New shape of features for Conv1D:\", X.shape)  # Should be (999, 110250, 1)"
   ]
  },
  {
   "cell_type": "code",
   "execution_count": 8,
   "id": "7db8c523-861b-4c7b-8ed8-44aa782425d5",
   "metadata": {},
   "outputs": [],
   "source": [
    "import os\n",
    "os.environ[\"CUDA_VISIBLE_DEVICES\"] = \"1\"  # Change to the desired GPU if needed"
   ]
  },
  {
   "cell_type": "code",
   "execution_count": 9,
   "id": "77ae0eb4-ab9e-4b54-9108-e295993b6523",
   "metadata": {},
   "outputs": [],
   "source": [
    "from keras.layers import Input\n",
    "\n",
    "def create_model(input_shape, num_classes):\n",
    "    model = Sequential([\n",
    "        Input(shape=input_shape),  # Use Input layer\n",
    "        Conv1D(32, kernel_size=3, activation='relu'),\n",
    "        MaxPooling1D(pool_size=2),\n",
    "        Conv1D(64, kernel_size=3, activation='relu'),\n",
    "        MaxPooling1D(pool_size=2),\n",
    "        Flatten(),\n",
    "        Dense(128, activation='relu'),\n",
    "        Dense(num_classes, activation='softmax')  # Output layer\n",
    "    ])\n",
    "    return model\n"
   ]
  },
  {
   "cell_type": "code",
   "execution_count": 10,
   "id": "6ad25b63-4ed0-4eaa-b2b1-53f2e3118dec",
   "metadata": {},
   "outputs": [
    {
     "name": "stderr",
     "output_type": "stream",
     "text": [
      "2024-10-31 14:39:24.950000: W tensorflow/tsl/framework/cpu_allocator_impl.cc:83] Allocation of 903118848 exceeds 10% of free system memory.\n",
      "2024-10-31 14:39:25.174190: W tensorflow/tsl/framework/cpu_allocator_impl.cc:83] Allocation of 903118848 exceeds 10% of free system memory.\n",
      "2024-10-31 14:39:25.389116: W tensorflow/tsl/framework/cpu_allocator_impl.cc:83] Allocation of 903118848 exceeds 10% of free system memory.\n"
     ]
    }
   ],
   "source": [
    "# Correct input shape for Conv1D\n",
    "input_shape = (samples_per_track, 1)  # (timesteps, channels)\n",
    "num_classes = len(unique_labels)  # Number of music genres\n",
    "\n",
    "# Create the model\n",
    "model = create_model(input_shape, num_classes)"
   ]
  },
  {
   "cell_type": "code",
   "execution_count": 11,
   "id": "d7752814-1aa4-4072-b8d1-385331f403cc",
   "metadata": {},
   "outputs": [
    {
     "name": "stdout",
     "output_type": "stream",
     "text": [
      "Model: \"sequential\"\n",
      "_________________________________________________________________\n",
      " Layer (type)                Output Shape              Param #   \n",
      "=================================================================\n",
      " conv1d (Conv1D)             (None, 110248, 32)        128       \n",
      "                                                                 \n",
      " max_pooling1d (MaxPooling1D  (None, 55124, 32)        0         \n",
      " )                                                               \n",
      "                                                                 \n",
      " conv1d_1 (Conv1D)           (None, 55122, 64)         6208      \n",
      "                                                                 \n",
      " max_pooling1d_1 (MaxPooling  (None, 27561, 64)        0         \n",
      " 1D)                                                             \n",
      "                                                                 \n",
      " flatten (Flatten)           (None, 1763904)           0         \n",
      "                                                                 \n",
      " dense (Dense)               (None, 128)               225779840 \n",
      "                                                                 \n",
      " dense_1 (Dense)             (None, 10)                1290      \n",
      "                                                                 \n",
      "=================================================================\n",
      "Total params: 225,787,466\n",
      "Trainable params: 225,787,466\n",
      "Non-trainable params: 0\n",
      "_________________________________________________________________\n"
     ]
    }
   ],
   "source": [
    "# Compile the model\n",
    "model.compile(optimizer='adam', loss='categorical_crossentropy', metrics=['accuracy'])\n",
    "\n",
    "# Check model summary\n",
    "model.summary()"
   ]
  },
  {
   "cell_type": "code",
   "execution_count": 12,
   "id": "74a867f3-628d-4051-a45f-d3a0ca3134ef",
   "metadata": {},
   "outputs": [
    {
     "name": "stdout",
     "output_type": "stream",
     "text": [
      "Epoch 1/2\n"
     ]
    },
    {
     "name": "stderr",
     "output_type": "stream",
     "text": [
      "2024-10-31 14:39:26.384299: W tensorflow/tsl/framework/cpu_allocator_impl.cc:83] Allocation of 903118848 exceeds 10% of free system memory.\n",
      "2024-10-31 14:39:26.521299: W tensorflow/tsl/framework/cpu_allocator_impl.cc:83] Allocation of 903118848 exceeds 10% of free system memory.\n"
     ]
    },
    {
     "name": "stdout",
     "output_type": "stream",
     "text": [
      "50/50 [==============================] - 199s 4s/step - loss: 3.9257 - accuracy: 0.1740 - val_loss: 2.1710 - val_accuracy: 0.2000\n",
      "Epoch 2/2\n",
      "50/50 [==============================] - 196s 4s/step - loss: 1.9769 - accuracy: 0.3066 - val_loss: 2.0570 - val_accuracy: 0.2200\n"
     ]
    }
   ],
   "source": [
    "from sklearn.model_selection import train_test_split\n",
    "\n",
    "# Split the dataset into training and validation sets\n",
    "X_train, X_val, y_train, y_val = train_test_split(X, y_categorical, test_size=0.2, random_state=42)\n",
    "\n",
    "# Train the model\n",
    "history = model.fit(X_train, y_train, validation_data=(X_val, y_val), epochs=2, batch_size=16)"
   ]
  },
  {
   "cell_type": "code",
   "execution_count": 13,
   "id": "14053a7b-3bb1-4fb3-9131-6f77e112e068",
   "metadata": {},
   "outputs": [
    {
     "name": "stdout",
     "output_type": "stream",
     "text": [
      "7/7 [==============================] - 5s 650ms/step - loss: 2.0570 - accuracy: 0.2200\n",
      "Validation Loss: 2.0570, Validation Accuracy: 0.2200\n"
     ]
    }
   ],
   "source": [
    "# Evaluate the model on the validation set\n",
    "val_loss, val_accuracy = model.evaluate(X_val, y_val)\n",
    "print(f'Validation Loss: {val_loss:.4f}, Validation Accuracy: {val_accuracy:.4f}')"
   ]
  },
  {
   "cell_type": "code",
   "execution_count": 14,
   "id": "528ec1c2-96fe-414a-9606-51d186ee1a57",
   "metadata": {},
   "outputs": [
    {
     "name": "stdout",
     "output_type": "stream",
     "text": [
      "7/7 [==============================] - 5s 692ms/step\n",
      "True class: disco, Predicted class: hiphop\n",
      "True class: reggae, Predicted class: rock\n",
      "True class: jazz, Predicted class: jazz\n",
      "True class: pop, Predicted class: hiphop\n",
      "True class: reggae, Predicted class: country\n"
     ]
    }
   ],
   "source": [
    "# Make predictions on the validation set\n",
    "predictions = model.predict(X_val)\n",
    "predicted_classes = np.argmax(predictions, axis=1)\n",
    "true_classes = np.argmax(y_val, axis=1)\n",
    "\n",
    "# Display some predictions\n",
    "for i in range(5):\n",
    "    print(f'True class: {unique_labels[true_classes[i]]}, Predicted class: {unique_labels[predicted_classes[i]]}')\n",
    "\n",
    "# Save the model\n",
    "model.save('music_genre_classification_model.h5')"
   ]
  }
 ],
 "metadata": {
  "kernelspec": {
   "display_name": "Python 3 (ipykernel)",
   "language": "python",
   "name": "python3"
  },
  "language_info": {
   "codemirror_mode": {
    "name": "ipython",
    "version": 3
   },
   "file_extension": ".py",
   "mimetype": "text/x-python",
   "name": "python",
   "nbconvert_exporter": "python",
   "pygments_lexer": "ipython3",
   "version": "3.9.12"
  }
 },
 "nbformat": 4,
 "nbformat_minor": 5
}
